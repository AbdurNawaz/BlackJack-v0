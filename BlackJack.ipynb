{
  "nbformat": 4,
  "nbformat_minor": 0,
  "metadata": {
    "colab": {
      "name": "BlackJack.ipynb",
      "provenance": [],
      "include_colab_link": true
    },
    "kernelspec": {
      "name": "python3",
      "display_name": "Python 3"
    }
  },
  "cells": [
    {
      "cell_type": "markdown",
      "metadata": {
        "id": "view-in-github",
        "colab_type": "text"
      },
      "source": [
        "<a href=\"https://colab.research.google.com/github/AbdurNawaz/BlackJack-v0/blob/master/BlackJack.ipynb\" target=\"_parent\"><img src=\"https://colab.research.google.com/assets/colab-badge.svg\" alt=\"Open In Colab\"/></a>"
      ]
    },
    {
      "cell_type": "code",
      "metadata": {
        "id": "f9BGUZBgS6wy",
        "colab_type": "code",
        "colab": {}
      },
      "source": [
        "import gym\n",
        "import numpy as np\n",
        "from collections import defaultdict\n",
        "from plot_utils import plot_blackjack_values, plot_policy"
      ],
      "execution_count": 0,
      "outputs": []
    },
    {
      "cell_type": "code",
      "metadata": {
        "id": "Uv_XFTfph39y",
        "colab_type": "code",
        "colab": {}
      },
      "source": [
        "env = gym.make('Blackjack-v0')"
      ],
      "execution_count": 0,
      "outputs": []
    },
    {
      "cell_type": "code",
      "metadata": {
        "id": "R3E4OqDpjQ5_",
        "colab_type": "code",
        "colab": {
          "base_uri": "https://localhost:8080/",
          "height": 53
        },
        "outputId": "853dc039-c379-4eb9-9187-6d941d36c664"
      },
      "source": [
        "print(env.observation_space)\n",
        "print(env.action_space)"
      ],
      "execution_count": 26,
      "outputs": [
        {
          "output_type": "stream",
          "text": [
            "Tuple(Discrete(32), Discrete(11), Discrete(2))\n",
            "Discrete(2)\n"
          ],
          "name": "stdout"
        }
      ]
    },
    {
      "cell_type": "code",
      "metadata": {
        "id": "OnKugbMHjWOM",
        "colab_type": "code",
        "colab": {
          "base_uri": "https://localhost:8080/",
          "height": 269
        },
        "outputId": "0c5bcc55-0b3b-4fc6-b472-6dd694dac41e"
      },
      "source": [
        "for i_episode in range(3):\n",
        "  state = env.reset()\n",
        "  while True:\n",
        "    print(state)\n",
        "    action = env.action_space.sample()\n",
        "    state, reward, done, info = env.step(action)\n",
        "    if done:\n",
        "      print(\"End Game!  Reward:\", reward)\n",
        "      print('You Won! \\n') if reward>0 else print('You Loose! \\n')\n",
        "      break"
      ],
      "execution_count": 30,
      "outputs": [
        {
          "output_type": "stream",
          "text": [
            "(15, 2, False)\n",
            "(21, 2, False)\n",
            "End Game!  Reward: 1.0\n",
            "You Won! \n",
            "\n",
            "(20, 10, False)\n",
            "End Game!  Reward: -1\n",
            "You Loose! \n",
            "\n",
            "(12, 6, False)\n",
            "(19, 6, False)\n",
            "End Game!  Reward: 1.0\n",
            "You Won! \n",
            "\n"
          ],
          "name": "stdout"
        }
      ]
    },
    {
      "cell_type": "code",
      "metadata": {
        "id": "oJIvReCgkoxe",
        "colab_type": "code",
        "colab": {
          "base_uri": "https://localhost:8080/",
          "height": 35
        },
        "outputId": "b2f0eac7-fd07-4191-c059-ebe5098e7824"
      },
      "source": [
        "env.step(1)"
      ],
      "execution_count": 14,
      "outputs": [
        {
          "output_type": "execute_result",
          "data": {
            "text/plain": [
              "((26, 7, False), -1, True, {})"
            ]
          },
          "metadata": {
            "tags": []
          },
          "execution_count": 14
        }
      ]
    },
    {
      "cell_type": "code",
      "metadata": {
        "id": "U3K-yHDInkyL",
        "colab_type": "code",
        "colab": {}
      },
      "source": [
        "def generate_episode_from_limit_stochastic(bj_env):\n",
        "  episode = []\n",
        "  state = bj_env.reset()\n",
        "  while True:\n",
        "    probs = [0.8, 0.2] if state[0] > 18 else [0.2, 0.8]\n",
        "    action = np.random.choice(np.arange(2), p=probs)\n",
        "    next_state, reward, done, info = bj_env.step(action)\n",
        "    episode.append((state, action, reward))\n",
        "    state = next_state\n",
        "    if done:\n",
        "      break\n",
        "  return episode"
      ],
      "execution_count": 0,
      "outputs": []
    },
    {
      "cell_type": "code",
      "metadata": {
        "id": "f-1Yub9PuN-v",
        "colab_type": "code",
        "colab": {
          "base_uri": "https://localhost:8080/",
          "height": 71
        },
        "outputId": "3f5ff39e-eb6b-4f69-c7d0-e30b23d99af9"
      },
      "source": [
        "for i in range(3):\n",
        "    print(generate_episode_from_limit_stochastic(env))"
      ],
      "execution_count": 18,
      "outputs": [
        {
          "output_type": "stream",
          "text": [
            "[((18, 4, False), 1, 0), ((19, 4, False), 0, 1.0)]\n",
            "[((15, 6, True), 1, 0), ((15, 6, False), 0, -1.0)]\n",
            "[((21, 10, True), 0, 1.0)]\n"
          ],
          "name": "stdout"
        }
      ]
    },
    {
      "cell_type": "code",
      "metadata": {
        "id": "pHvf6xzEuRzb",
        "colab_type": "code",
        "colab": {}
      },
      "source": [
        ""
      ],
      "execution_count": 0,
      "outputs": []
    }
  ]
}